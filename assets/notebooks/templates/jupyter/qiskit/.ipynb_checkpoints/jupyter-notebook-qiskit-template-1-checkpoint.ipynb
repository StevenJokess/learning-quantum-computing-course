{
 "cells": [
  {
   "cell_type": "markdown",
   "metadata": {},
   "source": [
    "# **_Learning Quantum Computing_**"
   ]
  },
  {
   "cell_type": "markdown",
   "metadata": {},
   "source": [
    "***"
   ]
  },
  {
   "cell_type": "markdown",
   "metadata": {},
   "source": [
    "<p style=\"text-align:justify\">\n",
    "    <img src=\"../../../../imgs/logos/course/banners/notebooks/jpgs/notebook-banner-1.jpg\" width=\"100%\" align=\"left\" alt=\"Learning Quantum Computing Course\"/>\n",
    "</p>"
   ]
  },
  {
   "cell_type": "markdown",
   "metadata": {},
   "source": [
    "***"
   ]
  },
  {
   "cell_type": "markdown",
   "metadata": {},
   "source": [
    "## **_Course's Lecture Basic Overview_**:\n",
    "\n",
    "<br>\n",
    "\n",
    "* Before all, **_Welcome to the World of the Quantum Physics/Mechanics, Quantum Technologies and Quantum Computing_**!!! ⚛️\n",
    "\n",
    "<br>\n",
    "<br>\n",
    "\n",
    "* This [**_Jupyter Notebook_**](https://jupyter.org/) _it's part of the contents and materials for study_ regarding to the **_Online Web Course_** \"[**_Learning Quantum Computing_**](https://rubenandrebarreiro.github.io/learning-quantum-computing/)\", available at the following hyperlink:\n",
    "    * 🌐 [**_https://rubenandrebarreiro.github.io/learning-quantum-computing/_**](https://rubenandrebarreiro.github.io/learning-quantum-computing/)\n",
    "\n",
    "<br>\n",
    "<br>\n",
    "\n",
    "* This [**_Jupyter Notebook_**](https://jupyter.org/) corresponds to the following **_Core/Week_** of the **_Course_**:\n",
    "    * 📍 [**_Core 1 - Introduction to Quantum_**](https://rubenandrebarreiro.github.io/learning-quantum-computing/#/2020/01/30/core-1-introduction-to-quantum):\n",
    "        * 📅 [**_Week 0 - Welcome to the Quantum World_**](https://rubenandrebarreiro.github.io/learning-quantum-computing/course/core-1-introduction-to-quantum/week-0-welcome-to-the-quantum-world/)"
   ]
  },
  {
   "cell_type": "markdown",
   "metadata": {},
   "source": [
    "***"
   ]
  },
  {
   "cell_type": "markdown",
   "metadata": {},
   "source": [
    "## **_Description_**:\n",
    "\n",
    "<br>\n",
    "\n",
    "* This [**_Jupyter Notebook_**](https://jupyter.org/) it's just a _base template_ for _demonstration of usage_ and can be used as _starting point_ for:\n",
    "    * 🎬 **_Demos_**\n",
    "    * 👨‍🏫 **_Presentations_**\n",
    "    * 📝 **_Tutorials_**\n",
    "    * 📓 **_Examples_**\n",
    "    * ✍️ **_Exercises_**\n",
    "\n",
    "<br>\n",
    "<br>\n",
    "\n",
    "* _I hope this **template** can help you to get some **brilliant ideas** for your [**Jupyter Notebooks**](https://jupyter.org/)!!!_ 💡"
   ]
  },
  {
   "cell_type": "markdown",
   "metadata": {},
   "source": [
    "***"
   ]
  },
  {
   "cell_type": "markdown",
   "metadata": {},
   "source": [
    "## **_Frameworks/Tools Used_**:\n",
    "\n",
    "<br>\n",
    "\n",
    "<div>\n",
    "    <div style=\"float: left; width: 20%; padding: 5px;\">\n",
    "        <img src=\"../../../../imgs/logos/frameworks/anaconda-logo-1.png\"/ height=\"200\" width=\"200\" alt=\"Python\"/>\n",
    "        <p style=\"text-align:center\">\n",
    "            <a href=\"https://www.anaconda.com/\"><u><i><b>Anaconda</b></i></u></a>\n",
    "        </p>\n",
    "    </div>\n",
    "    <div style=\"float: left; width: 20%; padding: 5px;\">\n",
    "        <img src=\"../../../../imgs/logos/frameworks/jupyter-notebook-logo-1.png\" height=\"200\" width=\"200\" alt=\"Jupyter Notebook\"/>\n",
    "        <p style=\"text-align:center\">\n",
    "            <a href=\"https://jupyter.org/\"><u><i><b>Jupyter Notebook</b></i></u></a>\n",
    "        </p>\n",
    "    </div>\n",
    "    <div style=\"float: left; width: 20%; padding: 5px;\">\n",
    "        <img src=\"../../../../imgs/logos/frameworks/python-logo-1.png\"/ height=\"200\" width=\"200\" alt=\"Python\"/>\n",
    "        <p style=\"text-align:center\">\n",
    "            <a href=\"https://www.python.org/\"><u><i><b>Python</b></i></u></a>\n",
    "        </p>\n",
    "    </div>\n",
    "    <div style=\"float: left; width: 20%; padding: 5px;\">\n",
    "        <img src=\"../../../../imgs/logos/frameworks/qiskit-logo-2.png\"/ height=\"200\" width=\"200\" alt=\"IBM's Qiskit\"/>\n",
    "        <p style=\"text-align:center\">\n",
    "            <a href=\"https://www.qiskit.org/\"><u><i><b>IBM's Qiskit</b></i></u></a>\n",
    "        </p>\n",
    "    </div>\n",
    "    <div style=\"float: left; width: 20%; padding: 5px;\">\n",
    "        <img src=\"../../../../imgs/logos/frameworks/matplotlib-logo-1.png\"/ height=\"200\" width=\"200\" alt=\"IBM's Qiskit\"/>\n",
    "        <p style=\"text-align:center\">\n",
    "            <a href=\"https://matplotlib.org/\"><u><i><b>Matplotlib</b></i></u></a>\n",
    "        </p>\n",
    "    </div>\n",
    "</div>"
   ]
  },
  {
   "cell_type": "markdown",
   "metadata": {},
   "source": [
    "***"
   ]
  },
  {
   "cell_type": "markdown",
   "metadata": {},
   "source": [
    "## **_Special Thanks_**\n",
    "\n",
    "<br>\n",
    "\n",
    "<div>\n",
    "    <div style=\"float: left; width: 20%; padding: 5px;\">\n",
    "        <img src=\"../../../../imgs/logos/enterprises/ibm-logo-1.png\"/ height=\"200\" width=\"200\" alt=\"IBM\"/>\n",
    "        <p style=\"text-align:center\">\n",
    "            <a href=\"https://www.ibm.com/\"><u><i><b>IBM</b></i></u></a>\n",
    "        </p>\n",
    "    </div>\n",
    "</div>"
   ]
  },
  {
   "cell_type": "markdown",
   "metadata": {},
   "source": [
    "***"
   ]
  },
  {
   "cell_type": "markdown",
   "metadata": {},
   "source": [
    "<p style=\"text-align:justify\">\n",
    "    <img src=\"../../../../imgs/bitmojis/ruben-bye-1.png\" width=\"200\" height=\"400\" align=\"left\" alt=\"Bitmoji - Rúben saying bye\"/>\n",
    "</p>\n",
    "\n",
    "<br>\n",
    "<br>\n",
    "<br>\n",
    "\n",
    "**_I hope you enjoy it, as always!!!_** 😉\n",
    "<br>\n",
    "**_See you soon!!!_** 👋\n",
    "<br>\n",
    "<br>\n",
    "**_Made with_** ❤️ **_by_** <a href=\"https://rubenandrebarreiro.github.io/\"><u><i><b>Rúben André Barreiro</b></i></u></a>\n",
    "<br>\n",
    "**_Monday - February 24th, 2020_** 📅\n"
   ]
  },
  {
   "cell_type": "markdown",
   "metadata": {},
   "source": [
    "***"
   ]
  },
  {
   "cell_type": "markdown",
   "metadata": {},
   "source": [
    "## **_Authors/Contributors_**:\n",
    "\n",
    "<br>\n",
    "\n",
    "<p style=\"text-align:justify\">\n",
    "    <img src=\"../../../../imgs/portraits/people/ruben-andre-barreiro/protrait-photo-rounded-1.png\" width=\"160\" height=\"160\" align=\"left\" alt=\"Rúben André Barreiro - Portrait\"/>\n",
    "</p>\n",
    "\n",
    "<br>\n",
    "<br>\n",
    "<br>\n",
    "<br>\n",
    "<br>\n",
    "<br>\n",
    "<br>\n",
    "<br>\n",
    "<br>\n",
    "<br>\n",
    "\n",
    "* ### 👤 [**_Rúben André Barreiro_**](https://rubenandrebarreiro.github.io/)\n",
    "    * 👨‍🎓 **_Student/Researcher_** @ [**_Integrated Master (BSc. + MSc.) of Computer Science and Engineering_**](https://www.fct.unl.pt/en/education/course/integrated-master-computer-science)\n",
    "    * 🎓 [**_NOVA School of Science and Technology (FCT NOVA), PT_**](https://www.fct.unl.pt/)\n",
    "    * 🎓 [**_Faculty of Sciences and Technology of New University of Lisbon (FCT/UNL), PT_**](https://www.fct.unl.pt/)\n",
    "    <br>\n",
    "    <br>\n",
    "    * 📧 **_E-mails_**:\n",
    "        * [**_ruben.andre.letra.barreiro@gmail.com_**](mailto:ruben.andre.letra.barreiro@gmail.com)\n",
    "        * [**_r.barreiro@campus.fct.unl.pt_**](mailto:r.barreiro@campus.fct.unl.pt)"
   ]
  },
  {
   "cell_type": "markdown",
   "metadata": {},
   "source": [
    "***"
   ]
  },
  {
   "cell_type": "markdown",
   "metadata": {},
   "source": [
    "## **_Copyrights_**:\n",
    "\n",
    "<br>\n",
    "\n",
    "* **© Rúben André Barreiro** | **Learning Quantum Computing (Online Web Course)** | **All Rights Reserved**"
   ]
  },
  {
   "cell_type": "markdown",
   "metadata": {},
   "source": [
    "***"
   ]
  },
  {
   "cell_type": "markdown",
   "metadata": {},
   "source": [
    "## **_License (Creative Commons)_**:\n",
    "\n",
    "<br>\n",
    "\n",
    "<span style=\"font-size: 10pt\">\n",
    "    <ul>\n",
    "        <li style=\"text-align: left\">\n",
    "            <a rel=\"license\" href=\"http://creativecommons.org/licenses/by-nc-nd/4.0/\">\n",
    "            <img alt=\"Creative Commons License\" style=\"border-width:0\" align=\"left\" src=\"https://i.creativecommons.org/l/by-nc-nd/4.0/88x31.png\" /></a>\n",
    "        </li>\n",
    "        <br>\n",
    "        <br>\n",
    "        <li>\n",
    "            This work is licensed under a <a rel=\"license\" href=\"http://creativecommons.org/licenses/by-nc-nd/4.0/\">Creative Commons Attribution-NonCommercial-NoDerivatives 4.0 International License</a>.\n",
    "        </li>              \n",
    "    </ul>\n",
    "</span>"
   ]
  },
  {
   "cell_type": "markdown",
   "metadata": {},
   "source": [
    "***"
   ]
  }
 ],
 "metadata": {
  "kernelspec": {
   "display_name": "Python 3",
   "language": "python",
   "name": "python3"
  },
  "language_info": {
   "codemirror_mode": {
    "name": "ipython",
    "version": 3
   },
   "file_extension": ".py",
   "mimetype": "text/x-python",
   "name": "python",
   "nbconvert_exporter": "python",
   "pygments_lexer": "ipython3",
   "version": "3.7.4"
  }
 },
 "nbformat": 4,
 "nbformat_minor": 2
}
