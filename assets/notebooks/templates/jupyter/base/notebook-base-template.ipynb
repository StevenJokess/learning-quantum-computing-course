{
 "cells": [
  {
   "cell_type": "code",
   "execution_count": 12,
   "metadata": {},
   "outputs": [
    {
     "data": {
      "text/html": [
       "<style>.container { width:100% !important; } .cell {background-color:#191919 !important; font-color:orange !important}</style>"
      ],
      "text/plain": [
       "<IPython.core.display.HTML object>"
      ]
     },
     "metadata": {},
     "output_type": "display_data"
    }
   ],
   "source": [
    "# Imports IPython's Core Display module in this Jupyter Notebook\n",
    "from IPython.core.display import display, HTML\n",
    "\n",
    "display(HTML(\"<style>.container { width:100% !important; } .cell {background-color:#191919 !important; font-color:orange !important}</style>\"))"
   ]
  },
  {
   "cell_type": "code",
   "execution_count": 1,
   "metadata": {},
   "outputs": [],
   "source": [
    "# Imports JPplot module in this Jupyter Notebook\n",
    "from jupyterthemes import jtplot\n",
    "\n",
    "# Chooses which theme to inherit plotting style\n",
    "jtplot.style(theme='gruvboxd')\n",
    "\n",
    "# Sets \"context\" (paper, notebook, talk, poster)\n",
    "# Scales font-size of ticklabels, legend, etc.\n",
    "# Adds spines from x and y axes and make grid dashed\n",
    "jtplot.style(context='notebook', fscale=12, spines=True, gridlines='--')\n",
    "\n",
    "# Turns on X- and Y-axis tick marks (default=False)\n",
    "# Turns on the axis grid lines (default=True)\n",
    "# and set the default figure size as (10,8)\n",
    "jtplot.style(ticks=True, grid=True, figsize=(10, 8))"
   ]
  },
  {
   "cell_type": "markdown",
   "metadata": {},
   "source": [
    "***"
   ]
  },
  {
   "cell_type": "markdown",
   "metadata": {},
   "source": [
    "<p align=\"justify\">\n",
    "    <img src=\"../../../../imgs/bitmojis/ruben-bye-1.png\" width=\"200\" height=\"400\" align=\"left\" alt=\"Bitmoji - Rúben saying bye\"/>\n",
    "</p>\n",
    "\n",
    "<br>\n",
    "\n",
    "**_I hope you enjoy it, as always!!!_** 😉\n",
    "<br>\n",
    "**_See you soon!!!_** 👋\n",
    "<br>\n",
    "<br>\n",
    "**_Made with_** ❤️ **_by_** <a href=\"https://rubenandrebarreiro.github.io/\"><font color='orange'><u><i><b>Rúben André Barreiro</b></i></u></font></a>"
   ]
  },
  {
   "cell_type": "markdown",
   "metadata": {},
   "source": [
    "***"
   ]
  },
  {
   "cell_type": "markdown",
   "metadata": {},
   "source": [
    "### **_Contributors_**:\n",
    "* [**_Rúben André Barreiro_**](https://rubenandrebarreiro.github.io/)\n",
    "    * **_Student/Researcher_** @ [**_Integrated Master (BSc. + MSc.) of Computer Science and Engineering_**](https://www.fct.unl.pt/en/education/course/integrated-master-computer-science)\n",
    "    * [**_NOVA School of Science and Technology (FCT NOVA)_**](https://www.fct.unl.pt/)\n",
    "    * [**_Faculty of Sciences and Technology of New University of Lisbon (FCT/UNL)_**](https://www.fct.unl.pt/)\n",
    "    <br>\n",
    "    <br>\n",
    "    * **_E-mails_**:\n",
    "        * [**_ruben.andre.letra.barreiro@gmail.com_**](mailto:ruben.andre.letra.barreiro@gmail.com)\n",
    "        * [**_r.barreiro@campus.fct.unl.pt_**](mailto:r.barreiro@campus.fct.unl.pt)"
   ]
  },
  {
   "cell_type": "markdown",
   "metadata": {},
   "source": [
    "***"
   ]
  }
 ],
 "metadata": {
  "kernelspec": {
   "display_name": "Python 3",
   "language": "python",
   "name": "python3"
  },
  "language_info": {
   "codemirror_mode": {
    "name": "ipython",
    "version": 3
   },
   "file_extension": ".py",
   "mimetype": "text/x-python",
   "name": "python",
   "nbconvert_exporter": "python",
   "pygments_lexer": "ipython3",
   "version": "3.7.4"
  }
 },
 "nbformat": 4,
 "nbformat_minor": 2
}
